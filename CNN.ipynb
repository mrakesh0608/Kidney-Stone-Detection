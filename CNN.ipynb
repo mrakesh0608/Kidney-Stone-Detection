{
 "cells": [
  {
   "cell_type": "code",
   "execution_count": 1,
   "id": "f6cafef1",
   "metadata": {},
   "outputs": [],
   "source": [
    "# Importing Libraries\n",
    "import os\n",
    "import numpy as np\n",
    "import matplotlib.pyplot as plt\n",
    "import keras\n",
    "from keras.models import Sequential\n",
    "from keras.layers import Dense, Conv2D, MaxPooling2D, Dropout, Flatten, Activation\n",
    "from keras.preprocessing.image import ImageDataGenerator"
   ]
  },
  {
   "cell_type": "code",
   "execution_count": 2,
   "id": "4b03554a",
   "metadata": {},
   "outputs": [],
   "source": [
    "# Setting the Path\n",
    "path = 'CT_images'"
   ]
  },
  {
   "cell_type": "code",
   "execution_count": 3,
   "id": "843005e7",
   "metadata": {},
   "outputs": [],
   "source": [
    "# Loading the images\n",
    "train_data_dir = os.path.join(path, 'Train')\n",
    "test_data_dir = os.path.join(path, 'Test')"
   ]
  },
  {
   "cell_type": "code",
   "execution_count": 4,
   "id": "b1828c21",
   "metadata": {},
   "outputs": [],
   "source": [
    "# Image Preprocessing\n",
    "train_datagen = ImageDataGenerator(rescale=1./255)\n",
    "test_datagen = ImageDataGenerator(rescale=1./255)"
   ]
  },
  {
   "cell_type": "code",
   "execution_count": 5,
   "id": "4b0c3ad3",
   "metadata": {},
   "outputs": [
    {
     "name": "stdout",
     "output_type": "stream",
     "text": [
      "Found 3000 images belonging to 2 classes.\n",
      "Found 900 images belonging to 2 classes.\n"
     ]
    }
   ],
   "source": [
    "# Training the Model\n",
    "train_generator = train_datagen.flow_from_directory(\n",
    "    train_data_dir,\n",
    "    target_size=(150,150),\n",
    "    batch_size=32,\n",
    "    class_mode='binary')\n",
    "\n",
    "test_generator = test_datagen.flow_from_directory(\n",
    "    test_data_dir,\n",
    "    target_size=(150,150),\n",
    "    batch_size=32,\n",
    "    class_mode='binary',\n",
    "    shuffle=False\n",
    "    )"
   ]
  },
  {
   "cell_type": "code",
   "execution_count": 6,
   "id": "0fb3babe",
   "metadata": {},
   "outputs": [],
   "source": [
    "model = Sequential()\n",
    "\n",
    "#Adding convolutional layers\n",
    "model.add(Conv2D(32, (3, 3), input_shape=(150, 150, 3)))\n",
    "model.add(Activation('relu'))\n",
    "model.add(MaxPooling2D(pool_size=(2, 2)))\n",
    "\n",
    "#Adding a second convolutional layer\n",
    "model.add(Conv2D(32, (3, 3)))\n",
    "model.add(Activation('relu'))\n",
    "model.add(MaxPooling2D(pool_size=(2, 2)))\n",
    "\n",
    "\n",
    "model.add(Flatten())  # this converts our feature maps to 1D feature vectors\n",
    "model.add(Dense(64))\n",
    "model.add(Activation('relu'))\n",
    "model.add(Dropout(0.5))\n",
    "model.add(Dense(1))\n",
    "model.add(Activation('sigmoid'))"
   ]
  },
  {
   "cell_type": "code",
   "execution_count": 7,
   "id": "9b4334bf",
   "metadata": {},
   "outputs": [],
   "source": [
    "# Compiling the model\n",
    "model.compile(loss='binary_crossentropy',\n",
    "              optimizer='adam',\n",
    "              metrics=['accuracy'])"
   ]
  },
  {
   "cell_type": "code",
   "execution_count": 8,
   "id": "3116fed5",
   "metadata": {},
   "outputs": [
    {
     "name": "stdout",
     "output_type": "stream",
     "text": [
      "Epoch 1/46\n",
      "32/32 [==============================] - ETA: 0s - loss: 0.5113 - accuracy: 0.7383WARNING:tensorflow:Your input ran out of data; interrupting training. Make sure that your dataset or generator can generate at least `steps_per_epoch * epochs` batches (in this case, 32 batches). You may need to use the repeat() function when building your dataset.\n",
      "32/32 [==============================] - 22s 649ms/step - loss: 0.5113 - accuracy: 0.7383 - val_loss: 0.3728 - val_accuracy: 0.7211\n",
      "Epoch 2/46\n",
      "32/32 [==============================] - 13s 396ms/step - loss: 0.1272 - accuracy: 0.9639\n",
      "Epoch 3/46\n",
      "32/32 [==============================] - 12s 371ms/step - loss: 0.0383 - accuracy: 0.9863\n",
      "Epoch 4/46\n",
      "32/32 [==============================] - 12s 374ms/step - loss: 0.0144 - accuracy: 0.9971\n",
      "Epoch 5/46\n",
      "32/32 [==============================] - 12s 372ms/step - loss: 0.0099 - accuracy: 0.9980\n",
      "Epoch 6/46\n",
      "32/32 [==============================] - 12s 374ms/step - loss: 0.0110 - accuracy: 0.9961\n",
      "Epoch 7/46\n",
      "32/32 [==============================] - 12s 371ms/step - loss: 0.0081 - accuracy: 0.9990\n",
      "Epoch 8/46\n",
      "32/32 [==============================] - 12s 369ms/step - loss: 0.0029 - accuracy: 0.9990\n",
      "Epoch 9/46\n",
      "32/32 [==============================] - 12s 383ms/step - loss: 0.0051 - accuracy: 0.9990\n",
      "Epoch 10/46\n",
      "32/32 [==============================] - 13s 388ms/step - loss: 0.0048 - accuracy: 0.9990\n",
      "Epoch 11/46\n",
      "32/32 [==============================] - 12s 362ms/step - loss: 0.0043 - accuracy: 0.9990\n",
      "Epoch 12/46\n",
      "32/32 [==============================] - 12s 361ms/step - loss: 0.0031 - accuracy: 1.0000\n",
      "Epoch 13/46\n",
      "32/32 [==============================] - 12s 360ms/step - loss: 0.0026 - accuracy: 1.0000\n",
      "Epoch 14/46\n",
      "32/32 [==============================] - 12s 358ms/step - loss: 0.0036 - accuracy: 0.9980\n",
      "Epoch 15/46\n",
      "32/32 [==============================] - 12s 362ms/step - loss: 0.0042 - accuracy: 0.9980\n",
      "Epoch 16/46\n",
      "32/32 [==============================] - 12s 360ms/step - loss: 0.0038 - accuracy: 0.9990\n",
      "Epoch 17/46\n",
      "32/32 [==============================] - 12s 361ms/step - loss: 0.0066 - accuracy: 0.9980\n",
      "Epoch 18/46\n",
      "32/32 [==============================] - 12s 359ms/step - loss: 0.0017 - accuracy: 1.0000\n",
      "Epoch 19/46\n",
      "32/32 [==============================] - 12s 364ms/step - loss: 0.0018 - accuracy: 1.0000\n",
      "Epoch 20/46\n",
      "32/32 [==============================] - 12s 357ms/step - loss: 0.0047 - accuracy: 0.9980\n",
      "Epoch 21/46\n",
      "32/32 [==============================] - 12s 363ms/step - loss: 0.0053 - accuracy: 0.9990\n",
      "Epoch 22/46\n",
      "32/32 [==============================] - 12s 363ms/step - loss: 0.0032 - accuracy: 0.9990\n",
      "Epoch 23/46\n",
      "32/32 [==============================] - 12s 357ms/step - loss: 0.0021 - accuracy: 1.0000\n",
      "Epoch 24/46\n",
      "32/32 [==============================] - 12s 360ms/step - loss: 0.0015 - accuracy: 1.0000\n",
      "Epoch 25/46\n",
      "32/32 [==============================] - 12s 368ms/step - loss: 0.0496 - accuracy: 0.9833\n",
      "Epoch 26/46\n",
      "32/32 [==============================] - 13s 406ms/step - loss: 0.0145 - accuracy: 0.9961\n",
      "Epoch 27/46\n",
      "32/32 [==============================] - 13s 392ms/step - loss: 0.0084 - accuracy: 0.9980\n",
      "Epoch 28/46\n",
      "32/32 [==============================] - 12s 368ms/step - loss: 0.0130 - accuracy: 0.9961\n",
      "Epoch 29/46\n",
      "32/32 [==============================] - 12s 377ms/step - loss: 0.0047 - accuracy: 1.0000\n",
      "Epoch 30/46\n",
      "32/32 [==============================] - 12s 375ms/step - loss: 0.0076 - accuracy: 0.9990\n",
      "Epoch 31/46\n",
      "32/32 [==============================] - 12s 375ms/step - loss: 0.0055 - accuracy: 1.0000\n",
      "Epoch 32/46\n",
      "32/32 [==============================] - 12s 379ms/step - loss: 0.0043 - accuracy: 1.0000\n",
      "Epoch 33/46\n",
      "32/32 [==============================] - 12s 369ms/step - loss: 0.0012 - accuracy: 1.0000\n",
      "Epoch 34/46\n",
      "32/32 [==============================] - 12s 368ms/step - loss: 0.0032 - accuracy: 1.0000\n",
      "Epoch 35/46\n",
      "32/32 [==============================] - 12s 376ms/step - loss: 0.0018 - accuracy: 0.9990\n",
      "Epoch 36/46\n",
      "32/32 [==============================] - 13s 389ms/step - loss: 0.0016 - accuracy: 1.0000\n",
      "Epoch 37/46\n",
      "32/32 [==============================] - 12s 380ms/step - loss: 7.6086e-04 - accuracy: 1.0000\n",
      "Epoch 38/46\n",
      "32/32 [==============================] - 12s 375ms/step - loss: 0.0015 - accuracy: 1.0000\n",
      "Epoch 39/46\n",
      "32/32 [==============================] - 12s 371ms/step - loss: 0.0021 - accuracy: 0.9990\n",
      "Epoch 40/46\n",
      "32/32 [==============================] - 12s 367ms/step - loss: 0.0017 - accuracy: 1.0000\n",
      "Epoch 41/46\n",
      "32/32 [==============================] - 12s 376ms/step - loss: 0.0022 - accuracy: 0.9990\n",
      "Epoch 42/46\n",
      "32/32 [==============================] - 12s 368ms/step - loss: 8.3569e-04 - accuracy: 1.0000\n",
      "Epoch 43/46\n",
      "32/32 [==============================] - 12s 363ms/step - loss: 0.0033 - accuracy: 0.9990\n",
      "Epoch 44/46\n",
      "32/32 [==============================] - 12s 369ms/step - loss: 8.0692e-04 - accuracy: 1.0000\n",
      "Epoch 45/46\n",
      "32/32 [==============================] - 12s 363ms/step - loss: 8.3602e-04 - accuracy: 1.0000\n",
      "Epoch 46/46\n",
      "32/32 [==============================] - 12s 375ms/step - loss: 2.2347e-04 - accuracy: 1.0000\n"
     ]
    },
    {
     "data": {
      "text/plain": [
       "<keras.callbacks.History at 0x188ff3004d0>"
      ]
     },
     "execution_count": 8,
     "metadata": {},
     "output_type": "execute_result"
    }
   ],
   "source": [
    "# Training the Model\n",
    "model.fit(\n",
    "    train_generator,\n",
    "    steps_per_epoch=32,\n",
    "    epochs=46,\n",
    "    validation_data=test_generator,\n",
    "    validation_steps=32)"
   ]
  },
  {
   "cell_type": "code",
   "execution_count": 9,
   "id": "2ff385ec",
   "metadata": {},
   "outputs": [
    {
     "name": "stdout",
     "output_type": "stream",
     "text": [
      "Model: \"sequential\"\n",
      "_________________________________________________________________\n",
      " Layer (type)                Output Shape              Param #   \n",
      "=================================================================\n",
      " conv2d (Conv2D)             (None, 148, 148, 32)      896       \n",
      "                                                                 \n",
      " activation (Activation)     (None, 148, 148, 32)      0         \n",
      "                                                                 \n",
      " max_pooling2d (MaxPooling2D  (None, 74, 74, 32)       0         \n",
      " )                                                               \n",
      "                                                                 \n",
      " conv2d_1 (Conv2D)           (None, 72, 72, 32)        9248      \n",
      "                                                                 \n",
      " activation_1 (Activation)   (None, 72, 72, 32)        0         \n",
      "                                                                 \n",
      " max_pooling2d_1 (MaxPooling  (None, 36, 36, 32)       0         \n",
      " 2D)                                                             \n",
      "                                                                 \n",
      " flatten (Flatten)           (None, 41472)             0         \n",
      "                                                                 \n",
      " dense (Dense)               (None, 64)                2654272   \n",
      "                                                                 \n",
      " activation_2 (Activation)   (None, 64)                0         \n",
      "                                                                 \n",
      " dropout (Dropout)           (None, 64)                0         \n",
      "                                                                 \n",
      " dense_1 (Dense)             (None, 1)                 65        \n",
      "                                                                 \n",
      " activation_3 (Activation)   (None, 1)                 0         \n",
      "                                                                 \n",
      "=================================================================\n",
      "Total params: 2,664,481\n",
      "Trainable params: 2,664,481\n",
      "Non-trainable params: 0\n",
      "_________________________________________________________________\n"
     ]
    }
   ],
   "source": [
    "model.summary()"
   ]
  },
  {
   "cell_type": "code",
   "execution_count": 10,
   "id": "79c71cef",
   "metadata": {},
   "outputs": [
    {
     "name": "stdout",
     "output_type": "stream",
     "text": [
      "1/1 [==============================] - 0s 436ms/step - loss: 6.8557e-07 - accuracy: 1.0000\n"
     ]
    },
    {
     "data": {
      "text/plain": [
       "[6.855722745058301e-07, 1.0]"
      ]
     },
     "execution_count": 10,
     "metadata": {},
     "output_type": "execute_result"
    }
   ],
   "source": [
    "model.evaluate(test_generator,steps=1)"
   ]
  },
  {
   "cell_type": "code",
   "execution_count": 11,
   "id": "ebaa5d80",
   "metadata": {},
   "outputs": [],
   "source": [
    "# Saving the Model\n",
    "model.save('kidney_stone_detection_CNN_model.h5')"
   ]
  }
 ],
 "metadata": {
  "kernelspec": {
   "display_name": "Python 3 (ipykernel)",
   "language": "python",
   "name": "python3"
  },
  "language_info": {
   "codemirror_mode": {
    "name": "ipython",
    "version": 3
   },
   "file_extension": ".py",
   "mimetype": "text/x-python",
   "name": "python",
   "nbconvert_exporter": "python",
   "pygments_lexer": "ipython3",
   "version": "3.11.2"
  }
 },
 "nbformat": 4,
 "nbformat_minor": 5
}
