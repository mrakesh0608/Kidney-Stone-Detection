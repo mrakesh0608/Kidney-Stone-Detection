{
 "cells": [
  {
   "cell_type": "code",
   "execution_count": 1,
   "id": "c5b1f015",
   "metadata": {},
   "outputs": [],
   "source": [
    "# Creating the GUI\n",
    "from tkinter import *\n",
    "from PIL import Image, ImageTk\n",
    "import customtkinter\n",
    "import tkinter\n",
    "import tkinter as tk\n",
    "from tkinter import filedialog\n",
    "from tkinter.filedialog import askopenfilename\n",
    "from tkinter import messagebox\n",
    "import keras.utils as image\n",
    "import numpy as np"
   ]
  },
  {
   "cell_type": "code",
   "execution_count": 2,
   "id": "95cf3d42",
   "metadata": {},
   "outputs": [],
   "source": [
    "customtkinter.set_appearance_mode(\"System\")\n",
    "root = customtkinter.CTk()\n",
    "\n",
    "#window size\n",
    "root.rowconfigure(0,weight=1)    \n",
    "root.columnconfigure(0,weight=1)\n",
    "\n",
    "root.geometry('420x380')\n",
    "root.title('Kidney Stone Detection')"
   ]
  },
  {
   "cell_type": "code",
   "execution_count": 3,
   "id": "84df2bdb",
   "metadata": {},
   "outputs": [],
   "source": [
    "# Function to Predict CNN\n",
    "\n",
    "from keras.models import load_model\n",
    "model = load_model('models/CNN.h5')\n",
    "\n",
    "def predict_btn_cnn():\n",
    "    global label_prediction\n",
    "    global image_name\n",
    "    print(image_name);\n",
    "    test_img = image.load_img(image_name, target_size=(150, 150))\n",
    "    print(test_img);\n",
    "    test_img = image.img_to_array(test_img)\n",
    "    print(test_img);\n",
    "    test_img = np.expand_dims(test_img, axis=0)\n",
    "    print(test_img);\n",
    "    result = model.predict(test_img)\n",
    "    if result[0][0] == 1:\n",
    "        label_cnn.configure(text=\"Kidney Stone Detected\")\n",
    "    elif result[0][0] == 0:\n",
    "        label_cnn.configure(text=\"No Kidney Stone Detected\")"
   ]
  },
  {
   "cell_type": "code",
   "execution_count": 4,
   "id": "51c9a320",
   "metadata": {},
   "outputs": [],
   "source": [
    "import cv2\n",
    "from skimage.feature import hog \n",
    "import sklearn.externals\n",
    "import joblib\n",
    "\n",
    "svm_load = joblib.load(\"models/svc.pkl\") \n",
    "\n",
    "#Defining a function for HOG feature extraction\n",
    "def extract_features(images):\n",
    "    feature_list = []\n",
    "    for img in images:\n",
    "        fd, hog_image = hog(img, orientations=8, pixels_per_cell=(16, 16), \n",
    "                            cells_per_block=(1, 1), visualize=True, channel_axis=2)\n",
    "        # Resize the HOG features to a fixed size\n",
    "        fd = np.resize(fd, (2400, 1))\n",
    "        # Flatten the array to 2 dimensions\n",
    "        fd = fd.flatten()\n",
    "        feature_list.append(fd)\n",
    "    return feature_list\n",
    "\n",
    "#Function for Predict SVM        \n",
    "def predict_btn_svm():\n",
    "    global label_prediction\n",
    "    global image_name\n",
    "    test_img = cv2.imread(image_name)\n",
    "    #test_img = image.load_img(image_name, target_size=(150, 150))\n",
    "    #test_img = image.img_to_array(test_img)\n",
    "    feature_list_of_img = extract_features([test_img])\n",
    "    result = svm_load.predict(feature_list_of_img)    \n",
    "    #Displaying the output\n",
    "    if result[0] == 'Stone':\n",
    "        label.configure(text = \"Kidney Stone Detected\")\n",
    "    elif result[0] == 'Normal':\n",
    "        label.configure(text = \"No Kidney Stone Detected\")"
   ]
  },
  {
   "cell_type": "code",
   "execution_count": 5,
   "id": "ff416372",
   "metadata": {},
   "outputs": [],
   "source": [
    "# Function to Select Image\n",
    "def browse_btn():\n",
    "    global image_name\n",
    "    \n",
    "    label_cnn.configure(text=\"\")\n",
    "    label.configure(text=\"\")\n",
    "    \n",
    "    image_name = askopenfilename(title='Select Image')\n",
    "    img = Image.open(image_name)\n",
    "    img = img.resize((200, 200), Image.ANTIALIAS)\n",
    "    img = ImageTk.PhotoImage(img)\n",
    "    panel = tk.Label(root, image=img)\n",
    "    panel.image = img\n",
    "    panel.grid(row=0,column=1,sticky='nw',padx=20,pady=28)"
   ]
  },
  {
   "cell_type": "code",
   "execution_count": 6,
   "id": "e0f9bee4",
   "metadata": {},
   "outputs": [],
   "source": [
    "# Browse Button\n",
    "browsebtn = customtkinter.CTkButton(master=root, text=\"Browse Image\", command=browse_btn)\n",
    "browsebtn.grid(row=0, column=0,sticky='nw',padx=20,pady=20)\n",
    "\n",
    "\n",
    "# Predict Butoon CNN\n",
    "predictbtn = customtkinter.CTkButton(master=root, text=\"Predict CNN\", command=predict_btn_cnn)\n",
    "predictbtn.grid(row=1, column=0,sticky='nw',padx=20,pady=20)\n",
    "\n",
    "#Label Result CNN\n",
    "label_cnn = customtkinter.CTkLabel(root, text=\"\")\n",
    "label_cnn.grid(row=1,column=1,sticky='nw',padx=20,pady=20)\n",
    "\n",
    "#Label Result SVM\n",
    "label = customtkinter.CTkLabel(root, text=\"\")\n",
    "label.grid(row=2,column=1,sticky='nw',padx=20,pady=20)\n",
    "\n",
    "# Predict Butoon SVM\n",
    "predictbtnsvm = customtkinter.CTkButton(master=root, text=\"Predict SVM\", command=predict_btn_svm)\n",
    "predictbtnsvm.grid(row=2, column=0,sticky='nw',padx=20,pady=20)"
   ]
  },
  {
   "cell_type": "code",
   "execution_count": null,
   "id": "f64c54e5",
   "metadata": {},
   "outputs": [],
   "source": [
    "# Running the GUI\n",
    "root.mainloop()"
   ]
  }
 ],
 "metadata": {
  "kernelspec": {
   "display_name": "Python 3 (ipykernel)",
   "language": "python",
   "name": "python3"
  },
  "language_info": {
   "codemirror_mode": {
    "name": "ipython",
    "version": 3
   },
   "file_extension": ".py",
   "mimetype": "text/x-python",
   "name": "python",
   "nbconvert_exporter": "python",
   "pygments_lexer": "ipython3",
   "version": "3.11.2"
  }
 },
 "nbformat": 4,
 "nbformat_minor": 5
}
